{
  "nbformat": 4,
  "nbformat_minor": 0,
  "metadata": {
    "colab": {
      "provenance": [],
      "authorship_tag": "ABX9TyO3cgOb9NHUhTcDJWQvWUhx",
      "include_colab_link": true
    },
    "kernelspec": {
      "name": "python3",
      "display_name": "Python 3"
    },
    "language_info": {
      "name": "python"
    }
  },
  "cells": [
    {
      "cell_type": "markdown",
      "metadata": {
        "id": "view-in-github",
        "colab_type": "text"
      },
      "source": [
        "<a href=\"https://colab.research.google.com/github/mohammadzav23-ux/Mohammad_DTSC3020_Fall2025/blob/main/In_class_exercise_01.ipynb\" target=\"_parent\"><img src=\"https://colab.research.google.com/assets/colab-badge.svg\" alt=\"Open In Colab\"/></a>"
      ]
    },
    {
      "cell_type": "code",
      "source": [
        "print (\"Hello\")\n",
        "print (\"World\")\n",
        "print (\"I am Zaved\")"
      ],
      "metadata": {
        "colab": {
          "base_uri": "https://localhost:8080/"
        },
        "id": "NetWLZfoRGNt",
        "outputId": "aca7cba8-c204-4b00-e947-26bf382f8da5"
      },
      "execution_count": 8,
      "outputs": [
        {
          "output_type": "stream",
          "name": "stdout",
          "text": [
            "Hello\n",
            "World\n",
            "I am Zaved\n"
          ]
        }
      ]
    },
    {
      "cell_type": "code",
      "source": [
        "name = 'ZAVED'\n",
        "print (name)\n",
        "print ('Welcome to python !!!', name)"
      ],
      "metadata": {
        "colab": {
          "base_uri": "https://localhost:8080/"
        },
        "id": "aE5RKre4TGda",
        "outputId": "75f7cf39-c9a6-40a3-e442-a6d4be66e33b"
      },
      "execution_count": 14,
      "outputs": [
        {
          "output_type": "stream",
          "name": "stdout",
          "text": [
            "ZAVED\n",
            "Welcome to python !!! ZAVED\n"
          ]
        }
      ]
    }
  ]
}