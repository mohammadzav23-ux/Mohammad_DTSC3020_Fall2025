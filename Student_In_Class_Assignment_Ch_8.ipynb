{
  "nbformat": 4,
  "nbformat_minor": 0,
  "metadata": {
    "colab": {
      "provenance": [],
      "include_colab_link": true
    },
    "kernelspec": {
      "name": "python3",
      "display_name": "Python 3"
    },
    "language_info": {
      "name": "python"
    }
  },
  "cells": [
    {
      "cell_type": "markdown",
      "metadata": {
        "id": "view-in-github",
        "colab_type": "text"
      },
      "source": [
        "<a href=\"https://colab.research.google.com/github/mohammadzav23-ux/Mohammad_DTSC3020_Fall2025/blob/main/Student_In_Class_Assignment_Ch_8.ipynb\" target=\"_parent\"><img src=\"https://colab.research.google.com/assets/colab-badge.svg\" alt=\"Open In Colab\"/></a>"
      ]
    },
    {
      "cell_type": "markdown",
      "source": [
        "##Final Class Exercise"
      ],
      "metadata": {
        "id": "51gCuC6VJ3gu"
      }
    },
    {
      "cell_type": "markdown",
      "source": [
        "Write a Python function create_email(full_name) that builds a UNT email in the format\n",
        "firstname.lastname@my.unt.edu.\n",
        "\n",
        "Rules\n",
        "\n",
        " • Use the first and last word from full_name (case-insensitive).\n",
        "\n",
        " • Convert everything to lowercase.\n",
        "\n",
        " • If there is only one word, use it twice (e.g., \"ali\" → ali.ali@my.unt.edu).\n",
        "\n",
        " • Return the email string.\n",
        "\n",
        "\n",
        "Constraints\n",
        "\n",
        " • Use a function and return.\n",
        "\n",
        " • Do not use input() or external libraries.\n",
        "\n",
        "\n",
        " test your code with this list\n",
        " names = [\n",
        "    \"Sara Amini\",\n",
        "    \"Ali\",\n",
        "    \"Mary Jane\",\n",
        "    \"  John   Smith  \",\n",
        "    \"LINA\",\n",
        "    \"madonna\",\n",
        "    \"  sara   amini  \"\n",
        "]"
      ],
      "metadata": {
        "id": "7pxJ6i3jH7Yq"
      }
    },
    {
      "cell_type": "code",
      "source": [
        "# Write your solution here.\n",
        "def create_email(full_name):\n",
        "    name = full_name.strip().lower()\n",
        "    parts = name.split()\n",
        "    if len(parts) == 1:\n",
        "        first = last = parts[0]\n",
        "    else:\n",
        "        first = parts[0]\n",
        "        last = parts[-1]\n",
        "\n",
        "    email = f\"{first}.{last}@my.unt.edu\"\n",
        "    return email\n",
        "\n",
        "names = [\"Sara Amini\", \"Ali\", \"Mary Jane\", \" John Smith \", \"LINA\", \"madonna\", \" sara amini \"]\n",
        "\n",
        "for n in names:\n",
        "    print(create_email(n))\n",
        "\n",
        "\n",
        "\n"
      ],
      "metadata": {
        "id": "6jcH9Qm_IXWh",
        "colab": {
          "base_uri": "https://localhost:8080/"
        },
        "outputId": "3359ebcf-ca75-4617-f1ed-0af8e5a4281f"
      },
      "execution_count": 6,
      "outputs": [
        {
          "output_type": "stream",
          "name": "stdout",
          "text": [
            "sara.amini@my.unt.edu\n",
            "ali.ali@my.unt.edu\n",
            "mary.jane@my.unt.edu\n",
            "john.smith@my.unt.edu\n",
            "lina.lina@my.unt.edu\n",
            "madonna.madonna@my.unt.edu\n",
            "sara.amini@my.unt.edu\n"
          ]
        }
      ]
    }
  ]
}