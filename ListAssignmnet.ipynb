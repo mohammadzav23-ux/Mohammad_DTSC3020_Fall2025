{
  "nbformat": 4,
  "nbformat_minor": 0,
  "metadata": {
    "colab": {
      "provenance": [],
      "authorship_tag": "ABX9TyN1BgljThBdtF4OT1TReHCD",
      "include_colab_link": true
    },
    "kernelspec": {
      "name": "python3",
      "display_name": "Python 3"
    },
    "language_info": {
      "name": "python"
    }
  },
  "cells": [
    {
      "cell_type": "markdown",
      "metadata": {
        "id": "view-in-github",
        "colab_type": "text"
      },
      "source": [
        "<a href=\"https://colab.research.google.com/github/mohammadzav23-ux/Mohammad_DTSC3020_Fall2025/blob/main/ListAssignmnet.ipynb\" target=\"_parent\"><img src=\"https://colab.research.google.com/assets/colab-badge.svg\" alt=\"Open In Colab\"/></a>"
      ]
    },
    {
      "cell_type": "code",
      "execution_count": 1,
      "metadata": {
        "colab": {
          "base_uri": "https://localhost:8080/"
        },
        "id": "TrgkrM2puNFi",
        "outputId": "b744cb1b-6837-44a3-d531-fb7a5cad8788"
      },
      "outputs": [
        {
          "output_type": "stream",
          "name": "stdout",
          "text": [
            "Full list: ['apple', 'banana', 'orange']\n",
            "Each fruit:\n",
            "apple\n",
            "banana\n",
            "orange\n"
          ]
        }
      ],
      "source": [
        "fruits = [\"apple\", \"banana\", \"orange\"]\n",
        "print(\"Full list:\", fruits)\n",
        "print(\"Each fruit:\")\n",
        "for fruit in fruits:\n",
        "    print(fruit)"
      ]
    },
    {
      "cell_type": "code",
      "source": [
        "names = [\"Ali\", \"Sara\", \"John\", \"Mia\"]\n",
        "names[0] = \"Omar\"\n",
        "print(\"Updated names:\", names)"
      ],
      "metadata": {
        "colab": {
          "base_uri": "https://localhost:8080/"
        },
        "id": "Irf6JCSBuV6e",
        "outputId": "2ed2741f-0c8d-4730-c583-106fa4a56f08"
      },
      "execution_count": 2,
      "outputs": [
        {
          "output_type": "stream",
          "name": "stdout",
          "text": [
            "Updated names: ['Omar', 'Sara', 'John', 'Mia']\n"
          ]
        }
      ]
    },
    {
      "cell_type": "code",
      "source": [
        "vehicles = [\"car\", \"bus\", \"bike\", \"train\", \"scooter\"]\n",
        "vehicles.append(\"truck\")\n",
        "print(\"Vehicles:\", vehicles)"
      ],
      "metadata": {
        "colab": {
          "base_uri": "https://localhost:8080/"
        },
        "id": "eKUn9mbnu-lj",
        "outputId": "9f563ff6-f9a2-4965-80ca-0d13c7594a06"
      },
      "execution_count": 3,
      "outputs": [
        {
          "output_type": "stream",
          "name": "stdout",
          "text": [
            "Vehicles: ['car', 'bus', 'bike', 'train', 'scooter', 'truck']\n"
          ]
        }
      ]
    },
    {
      "cell_type": "code",
      "source": [
        "foods = [\"pizza\", \"burger\", \"pasta\", \"rice\", \"sushi\", \"salad\"]\n",
        "foods.remove(\"burger\")\n",
        "print(\"Updated foods:\", foods)"
      ],
      "metadata": {
        "colab": {
          "base_uri": "https://localhost:8080/"
        },
        "id": "JkU3uYa9u-yo",
        "outputId": "7ff4d149-5180-45ff-bb37-a44017882e50"
      },
      "execution_count": 4,
      "outputs": [
        {
          "output_type": "stream",
          "name": "stdout",
          "text": [
            "Updated foods: ['pizza', 'pasta', 'rice', 'sushi', 'salad']\n"
          ]
        }
      ]
    },
    {
      "cell_type": "code",
      "source": [
        "cities = [\"London\", \"Paris\", \"Tokyo\", \"New York\"]\n",
        "cities.sort()\n",
        "print(\"Sorted cities:\", cities)\n",
        "cities.reverse()\n",
        "print(\"Reversed cities:\", cities)"
      ],
      "metadata": {
        "colab": {
          "base_uri": "https://localhost:8080/"
        },
        "id": "kSGlrvJKu-66",
        "outputId": "4f9f9eae-5419-41fc-a392-4ae01b923e52"
      },
      "execution_count": 5,
      "outputs": [
        {
          "output_type": "stream",
          "name": "stdout",
          "text": [
            "Sorted cities: ['London', 'New York', 'Paris', 'Tokyo']\n",
            "Reversed cities: ['Tokyo', 'Paris', 'New York', 'London']\n"
          ]
        }
      ]
    },
    {
      "cell_type": "code",
      "source": [
        "animals = [\"dog\", \"cat\", \"elephant\"]\n",
        "print(\"Animals:\")\n",
        "for animal in animals:\n",
        "    print(animal)"
      ],
      "metadata": {
        "colab": {
          "base_uri": "https://localhost:8080/"
        },
        "id": "T2EO57Ayu_Cx",
        "outputId": "9261f611-07cd-445d-d369-b345e712eca4"
      },
      "execution_count": 6,
      "outputs": [
        {
          "output_type": "stream",
          "name": "stdout",
          "text": [
            "Animals:\n",
            "dog\n",
            "cat\n",
            "elephant\n"
          ]
        }
      ]
    },
    {
      "cell_type": "code",
      "source": [
        "numbers = [1, 2, 3, 4, 5]\n",
        "print(\"Numbers multiplied by 2:\")\n",
        "for num in numbers:\n",
        "    print(num * 2)"
      ],
      "metadata": {
        "colab": {
          "base_uri": "https://localhost:8080/"
        },
        "id": "hyDngLbIu_Ji",
        "outputId": "c2bb261f-a825-431a-cbdc-e615560250a1"
      },
      "execution_count": 7,
      "outputs": [
        {
          "output_type": "stream",
          "name": "stdout",
          "text": [
            "Numbers multiplied by 2:\n",
            "2\n",
            "4\n",
            "6\n",
            "8\n",
            "10\n"
          ]
        }
      ]
    },
    {
      "cell_type": "code",
      "source": [
        "friends = [\"Ahmed\", \"Fatima\", \"Bilal\", \"Sophia\", \"David\", \"Emma\"]\n",
        "print(\"First three friends:\", friends[:3])\n",
        "print(\"Last three friends:\", friends[-3:])"
      ],
      "metadata": {
        "colab": {
          "base_uri": "https://localhost:8080/"
        },
        "id": "O2_a6-tOu_Pg",
        "outputId": "93a0f43c-f8a4-48b1-ee17-4a94993287c4"
      },
      "execution_count": 8,
      "outputs": [
        {
          "output_type": "stream",
          "name": "stdout",
          "text": [
            "First three friends: ['Ahmed', 'Fatima', 'Bilal']\n",
            "Last three friends: ['Sophia', 'David', 'Emma']\n"
          ]
        }
      ]
    },
    {
      "cell_type": "code",
      "source": [
        "nums = list(range(1, 11))\n",
        "print(\"Numbers 1 to 10:\", nums)"
      ],
      "metadata": {
        "colab": {
          "base_uri": "https://localhost:8080/"
        },
        "id": "LjeiWrF4vTf3",
        "outputId": "08ac1e96-755f-40da-c905-d537e56455a4"
      },
      "execution_count": 9,
      "outputs": [
        {
          "output_type": "stream",
          "name": "stdout",
          "text": [
            "Numbers 1 to 10: [1, 2, 3, 4, 5, 6, 7, 8, 9, 10]\n"
          ]
        }
      ]
    },
    {
      "cell_type": "code",
      "source": [
        "squares = [x**2 for x in range(1, 6)]\n",
        "print(\"Squares:\", squares)"
      ],
      "metadata": {
        "colab": {
          "base_uri": "https://localhost:8080/"
        },
        "id": "qsYMLq6lvTo-",
        "outputId": "071962fe-42da-48e7-b557-a759e7e7a5bf"
      },
      "execution_count": 10,
      "outputs": [
        {
          "output_type": "stream",
          "name": "stdout",
          "text": [
            "Squares: [1, 4, 9, 16, 25]\n"
          ]
        }
      ]
    }
  ]
}