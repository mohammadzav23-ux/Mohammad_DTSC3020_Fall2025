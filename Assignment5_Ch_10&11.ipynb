{
  "cells": [
    {
      "cell_type": "markdown",
      "metadata": {
        "id": "view-in-github",
        "colab_type": "text"
      },
      "source": [
        "<a href=\"https://colab.research.google.com/github/mohammadzav23-ux/Mohammad_DTSC3020_Fall2025/blob/main/Assignment5_Ch_10%2611.ipynb\" target=\"_parent\"><img src=\"https://colab.research.google.com/assets/colab-badge.svg\" alt=\"Open In Colab\"/></a>"
      ]
    },
    {
      "cell_type": "markdown",
      "id": "9903d230",
      "metadata": {
        "id": "9903d230"
      },
      "source": [
        "# Assignment5: CRM Cleanup @ **DalaShop**\n",
        "*Files (Ch.10), Exceptions (Ch.10), Unit Tests (Ch.11), and Regular Expressions*  \n",
        ".....\n",
        "\n",
        "**Total: 3 points**  (Two questions, 1.5 pts each)  \n",
        "\n",
        "> This assignment is scenario-based and aligned with Python Crash Course Ch.10 (files & exceptions), Ch.11 (unit testing with `unittest`), and Regular Expressions."
      ]
    },
    {
      "cell_type": "markdown",
      "id": "d6487401",
      "metadata": {
        "id": "d6487401"
      },
      "source": [
        "## Scenario\n",
        "You are a data intern at an online retailer called **DalaShop**.  \n",
        "Sales exported a **raw contacts** file from the CRM. It contains customer names, emails, and phone numbers, but the formatting is messy and some emails are invalid.  \n",
        "Your tasks:\n",
        "\n",
        "1. **Clean** the contacts (Files + Exceptions + Regex).  \n",
        "2. **Write unit tests** to make sure your helper functions work correctly and keep working in the future."
      ]
    },
    {
      "cell_type": "markdown",
      "id": "0bd1712f",
      "metadata": {
        "id": "0bd1712f"
      },
      "source": [
        "## Data file (given by the company): `contacts_raw.txt`\n",
        "Use this exact sample data (you may extend it for your own testing, but do **not** change it when submitting).  \n",
        "Run the next cell once to create the file beside your notebook."
      ]
    },
    {
      "cell_type": "code",
      "execution_count": 4,
      "id": "c395a1a8",
      "metadata": {
        "id": "c395a1a8",
        "colab": {
          "base_uri": "https://localhost:8080/"
        },
        "outputId": "cd22074a-8380-4ad7-92c7-f19fee85d7fc"
      },
      "outputs": [
        {
          "output_type": "stream",
          "name": "stdout",
          "text": [
            "Wrote contacts_raw.txt with sample DalaShop data.\n"
          ]
        }
      ],
      "source": [
        "# Create the provided company dataset file\n",
        "with open(\"contacts_raw.txt\", \"w\", encoding=\"utf-8\") as f:\n",
        "    f.write('Alice Johnson <alice@example.com> , +1 (469) 555-1234\\nBob Roberts <bob[at]example.com> , 972-555-777\\nSara M. , sara@mail.co , 214 555 8888\\n\"Mehdi A.\" <mehdi.ay@example.org> , (469)555-9999\\nDelaram <delaram@example.io>, +1-972-777-2121\\nNima <NIMA@example.io> , 972.777.2121\\nduplicate <Alice@Example.com> , 469 555 1234')\n",
        "print(\"Wrote contacts_raw.txt with sample DalaShop data.\")"
      ]
    },
    {
      "cell_type": "markdown",
      "id": "1b535f73",
      "metadata": {
        "id": "1b535f73"
      },
      "source": [
        "## Q1 (1.5 pts) — CRM cleanup with Files, Exceptions, and Regex\n",
        "Implement `q1_crm_cleanup.py` to:\n",
        "\n",
        "1. **Read** `contacts_raw.txt` using `pathlib` and `with`. If the file is missing, **handle** it gracefully with `try/except FileNotFoundError` (print a friendly message; do not crash).\n",
        "2. **Validate emails** with a simple regex (`r\"[A-Za-z0-9._%+-]+@[A-Za-z0-9.-]+\\.[A-Za-z]{2,}\"`).  \n",
        "   - Trim whitespace with `strip()` before checking.  \n",
        "   - Use **full** matching (not partial).\n",
        "3. **Normalize phone numbers:** remove all non-digits (e.g., with `re.sub(r\"\\D\", \"\", raw)`).  \n",
        "   - If the result has **≥ 10 digits**, keep the **last 10 digits**.  \n",
        "   - Otherwise, return an **empty string** (`\"\"`).\n",
        "4. **Filter rows:** keep **only** rows with a valid email.\n",
        "5. **Deduplicate:** remove duplicates by **email** using **case-insensitive** comparison (e.g., `email.casefold()`). **Keep the first occurrence** and drop later duplicates.\n",
        "6. **Output CSV:** write to `contacts_clean.csv` with **columns exactly** `name,email,phone` (UTF-8).  \n",
        "7. **Preserve input order:** the order of rows in `contacts_clean.csv` must match the **first appearance** order from the input file. **Do not sort** the rows.\n",
        "\n",
        "**Grading rubric (1.5 pts):**\n",
        "- (0.4) File read/write via `pathlib` + graceful `FileNotFoundError` handling  \n",
        "- (0.5) Correct email regex validation + filtering  \n",
        "- (0.4) Phone normalization + case-insensitive de-dup (keep first)  \n",
        "- (0.2) Clean code, clear names, minimal docstrings/comments"
      ]
    },
    {
      "cell_type": "code",
      "source": [
        "# Write your answer here\n",
        "# q1_crm_cleanup.py\n",
        "\"\"\"\n",
        "CRM Cleanup @ DalaShop\n",
        "Reads a messy contacts_raw.txt file, validates emails, normalizes phones,\n",
        "removes duplicates (by email, case-insensitive), and writes cleaned CSV.\n",
        "\"\"\"\n",
        "\n",
        "import re\n",
        "import csv\n",
        "from pathlib import Path\n",
        "\n",
        "\n",
        "def is_valid_email(email: str) -> bool:\n",
        "    \"\"\"Return True if email matches the given regex pattern exactly.\"\"\"\n",
        "    pattern = r\"[A-Za-z0-9._%+-]+@[A-Za-z0-9.-]+\\.[A-Za-z]{2,}\"\n",
        "    email = email.strip()\n",
        "    return re.fullmatch(pattern, email) is not None\n",
        "\n",
        "\n",
        "def normalize_phone(raw: str) -> str:\n",
        "    \"\"\"Remove all non-digit characters and keep last 10 digits if length ≥ 10.\"\"\"\n",
        "    digits = re.sub(r\"\\D\", \"\", raw)\n",
        "    if len(digits) >= 10:\n",
        "        return digits[-10:]\n",
        "    return \"\"\n",
        "\n",
        "\n",
        "def parse_contact_line(line: str):\n",
        "    \"\"\"Parse one line of contact info (name, email, phone).\"\"\"\n",
        "    parts = [p.strip().strip('\"') for p in line.split(\",\")]\n",
        "    if len(parts) < 3:\n",
        "        return None\n",
        "\n",
        "    name = parts[0]\n",
        "    email = parts[1]\n",
        "    phone = parts[2]\n",
        "\n",
        "    if not is_valid_email(email):\n",
        "        return None\n",
        "\n",
        "    phone = normalize_phone(phone)\n",
        "    return {\"name\": name, \"email\": email, \"phone\": phone}\n",
        "\n",
        "\n",
        "def clean_contacts(input_path=\"contacts_raw.txt\", output_path=\"contacts_clean.csv\"):\n",
        "    \"\"\"Main cleanup: read raw file, filter, de-dup, and write clean CSV.\"\"\"\n",
        "    path = Path(input_path)\n",
        "    try:\n",
        "        lines = path.read_text(encoding=\"utf-8\").splitlines()\n",
        "    except FileNotFoundError:\n",
        "        print(f\"❌ File not found: {input_path}\")\n",
        "        return\n",
        "\n",
        "    seen_emails = set()\n",
        "    cleaned_rows = []\n",
        "\n",
        "    for line in lines:\n",
        "        contact = parse_contact_line(line)\n",
        "        if not contact:\n",
        "            continue\n",
        "        email_key = contact[\"email\"].casefold()\n",
        "        if email_key in seen_emails:\n",
        "            continue\n",
        "        seen_emails.add(email_key)\n",
        "        cleaned_rows.append(contact)\n",
        "\n",
        "    # Write cleaned CSV\n",
        "    with open(output_path, \"w\", newline=\"\", encoding=\"utf-8\") as f:\n",
        "        writer = csv.DictWriter(f, fieldnames=[\"name\", \"email\", \"phone\"])\n",
        "        writer.writeheader()\n",
        "        writer.writerows(cleaned_rows)\n",
        "\n",
        "    print(f\"✅ Cleaned {len(cleaned_rows)} contacts written to {output_path}\")\n",
        "\n",
        "\n",
        "if __name__ == \"__main__\":\n",
        "    clean_contacts()\n"
      ],
      "metadata": {
        "id": "gO9xaHmKNlax",
        "colab": {
          "base_uri": "https://localhost:8080/"
        },
        "outputId": "f7611f40-a0eb-4fc0-a0d5-bfb6cbdcf3eb"
      },
      "id": "gO9xaHmKNlax",
      "execution_count": 5,
      "outputs": [
        {
          "output_type": "stream",
          "name": "stdout",
          "text": [
            "✅ Cleaned 1 contacts written to contacts_clean.csv\n"
          ]
        }
      ]
    },
    {
      "cell_type": "markdown",
      "id": "258c5b04",
      "metadata": {
        "id": "258c5b04"
      },
      "source": [
        "## Q2 (1.5 pts) — Unit testing with `unittest`\n",
        "Create tests in `test_crm_cleanup.py` that cover at least:\n",
        "\n",
        "1. **Email validation**: valid/invalid variations.  \n",
        "2. **Phone normalization**: parentheses, dashes, spaces, country code; too-short cases.  \n",
        "3. **Parsing**: from a small multi-line string (not from a file), assert the exact structured rows (name/email/phone).  \n",
        "4. **De-duplication**: demonstrate that a case-variant duplicate email is dropped (first occurrence kept).\n",
        "\n",
        "\n"
      ]
    },
    {
      "cell_type": "code",
      "source": [
        "# Write your answer here\n",
        "# === Q2: Unit Testing (test_crm_cleanup.py) ===\n",
        "import unittest\n",
        "from __main__ import is_valid_email, normalize_phone, parse_contact_line\n",
        "\n",
        "\n",
        "class TestCRMHelpers(unittest.TestCase):\n",
        "\n",
        "    def test_valid_emails(self):\n",
        "        self.assertTrue(is_valid_email(\"alice@example.com\"))\n",
        "        self.assertTrue(is_valid_email(\"me.hdi-22@domain.org\"))\n",
        "        self.assertTrue(is_valid_email(\"A_B@exa.co\"))\n",
        "\n",
        "    def test_invalid_emails(self):\n",
        "        self.assertFalse(is_valid_email(\"bob[at]example.com\"))\n",
        "        self.assertFalse(is_valid_email(\"sara@mail\"))\n",
        "        self.assertFalse(is_valid_email(\"justtext\"))\n",
        "\n",
        "    def test_phone_normalization(self):\n",
        "        self.assertEqual(normalize_phone(\"+1 (469) 555-1234\"), \"4695551234\")\n",
        "        self.assertEqual(normalize_phone(\"972.555.7777\"), \"9725557777\")\n",
        "        self.assertEqual(normalize_phone(\"214 555 8888\"), \"2145558888\")\n",
        "        self.assertEqual(normalize_phone(\"4695559\"), \"\")  # too short\n",
        "\n",
        "    def test_parse_contact_line_valid(self):\n",
        "        line = 'Alice Johnson, alice@example.com, +1 (469) 555-1234'\n",
        "        parsed = parse_contact_line(line)\n",
        "        expected = {\"name\": \"Alice Johnson\", \"email\": \"alice@example.com\", \"phone\": \"4695551234\"}\n",
        "        self.assertEqual(parsed, expected)\n",
        "\n",
        "    def test_parse_contact_line_invalid_email(self):\n",
        "        line = 'Bob Roberts, bob[at]example.com, 972-555-777'\n",
        "        self.assertIsNone(parse_contact_line(line))\n",
        "\n",
        "    def test_deduplication_case_insensitive(self):\n",
        "        lines = [\n",
        "            'Alice, alice@example.com, 111-111-1111',\n",
        "            'Duplicate, ALICE@EXAMPLE.COM, 222-222-2222'\n",
        "        ]\n",
        "        parsed = [parse_contact_line(l) for l in lines]\n",
        "        seen = set()\n",
        "        cleaned = []\n",
        "        for c in parsed:\n",
        "            if not c:\n",
        "                continue\n",
        "            key = c[\"email\"].casefold()\n",
        "            if key in seen:\n",
        "                continue\n",
        "            seen.add(key)\n",
        "            cleaned.append(c)\n",
        "        self.assertEqual(len(cleaned), 1)\n",
        "        self.assertEqual(cleaned[0][\"name\"], \"Alice\")\n",
        "\n",
        "\n",
        "# This makes tests run correctly inside a notebook (no Kernel exit)\n",
        "unittest.main(argv=[''], exit=False)\n",
        "\n"
      ],
      "metadata": {
        "id": "_M18cJw2NqZm",
        "colab": {
          "base_uri": "https://localhost:8080/"
        },
        "outputId": "c5b8ef7e-51a9-4b09-9627-2e6769248d92"
      },
      "id": "_M18cJw2NqZm",
      "execution_count": 6,
      "outputs": [
        {
          "output_type": "stream",
          "name": "stderr",
          "text": [
            "......\n",
            "----------------------------------------------------------------------\n",
            "Ran 6 tests in 0.005s\n",
            "\n",
            "OK\n"
          ]
        },
        {
          "output_type": "execute_result",
          "data": {
            "text/plain": [
              "<unittest.main.TestProgram at 0x7969e1510740>"
            ]
          },
          "metadata": {},
          "execution_count": 6
        }
      ]
    },
    {
      "cell_type": "markdown",
      "id": "f38af38b",
      "metadata": {
        "id": "f38af38b"
      },
      "source": [
        "## Grading rubric (total 3 pts)\n",
        "- **Q1 (1.5 pts)**  \n",
        "  - (0.4) File I/O with `pathlib` + graceful `FileNotFoundError` handling  \n",
        "  - (0.5) Email validation (regex + strip + full match) and filtering  \n",
        "  - (0.4) Phone normalization and **case-insensitive** de-duplication (keep first)  \n",
        "  - (0.2) Code clarity (names, minimal docstrings/comments)\n",
        "- **Q2 (1.5 pts)**  \n",
        "  - (0.6) Meaningful coverage for email/phone functions (valid & invalid)  \n",
        "  - (0.6) Parsing & de-dup tests that assert exact expected rows  \n",
        "  - (0.3) Standard `unittest` structure and readable test names\n"
      ]
    }
  ],
  "metadata": {
    "colab": {
      "provenance": [],
      "include_colab_link": true
    },
    "language_info": {
      "name": "python"
    },
    "kernelspec": {
      "name": "python3",
      "display_name": "Python 3"
    }
  },
  "nbformat": 4,
  "nbformat_minor": 5
}